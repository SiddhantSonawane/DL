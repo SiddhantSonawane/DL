{
 "cells": [
  {
   "cell_type": "code",
   "execution_count": 19,
   "id": "aeecd0a6-ebba-4930-9a46-41324a44ba5d",
   "metadata": {},
   "outputs": [],
   "source": [
    "import tensorflow as tf\n",
    "import numpy as np\n",
    "from tensorflow.keras.models import Sequential\n",
    "from tensorflow.keras.layers import Dense, Embedding, Lambda\n",
    "from tensorflow.keras.preprocessing.text import Tokenizer\n",
    "from tensorflow.keras.utils import to_categorical\n",
    "import matplotlib.pyplot as plt\n",
    "from sklearn.decomposition import PCA"
   ]
  },
  {
   "cell_type": "code",
   "execution_count": 20,
   "id": "36c5b408-c12a-404a-8b4b-9f2a357c30c4",
   "metadata": {},
   "outputs": [],
   "source": [
    "corpus = [\n",
    "    \"I enjoy learning NLP and machine learning\",\n",
    "    \"CBOW is an interesting model for word embeddings\",\n",
    "    \"Understanding word context is important for NLP\"\n",
    "]"
   ]
  },
  {
   "cell_type": "code",
   "execution_count": 21,
   "id": "8ce5a0d5-d8c7-4669-b907-13021717c8ef",
   "metadata": {},
   "outputs": [
    {
     "name": "stdout",
     "output_type": "stream",
     "text": [
      "[[6, 7, 1, 2, 8, 9, 1], [10, 3, 11, 12, 13, 4, 5, 14], [15, 5, 16, 3, 17, 4, 2]]\n"
     ]
    }
   ],
   "source": [
    "tokenizer = Tokenizer()\n",
    "tokenizer.fit_on_texts(corpus)\n",
    "\n",
    "sequences = tokenizer.texts_to_sequences(corpus)\n",
    "print(sequences)"
   ]
  },
  {
   "cell_type": "code",
   "execution_count": 22,
   "id": "1c58078e-f2dd-4ba3-90fe-281eefa89e65",
   "metadata": {},
   "outputs": [],
   "source": [
    "vocab_size = len(tokenizer.word_index) + 1\n",
    "embed_size = 10\n",
    "window = 3\n",
    "\n",
    "contexts = []\n",
    "targets = []\n",
    "\n",
    "for seq in sequences:\n",
    "    for i in range(window, len(seq) - window):\n",
    "        context = seq[i-window:i] + seq[i+1: i+1+window]\n",
    "        target = seq[i]\n",
    "        contexts.append(context)\n",
    "        targets.append(target)\n",
    "\n",
    "X = np.array(contexts)\n",
    "y = to_categorical(targets, vocab_size)"
   ]
  },
  {
   "cell_type": "code",
   "execution_count": 23,
   "id": "e9d0affa-0083-422d-9339-c6ac801ec71a",
   "metadata": {},
   "outputs": [
    {
     "data": {
      "text/plain": [
       "array([[ 6,  7,  1,  8,  9,  1],\n",
       "       [10,  3, 11, 13,  4,  5],\n",
       "       [ 3, 11, 12,  4,  5, 14],\n",
       "       [15,  5, 16, 17,  4,  2]])"
      ]
     },
     "execution_count": 23,
     "metadata": {},
     "output_type": "execute_result"
    }
   ],
   "source": [
    "X"
   ]
  },
  {
   "cell_type": "code",
   "execution_count": 24,
   "id": "cef43c1f-ebce-4fc9-8a87-be2cc62eb763",
   "metadata": {},
   "outputs": [
    {
     "data": {
      "text/plain": [
       "array([[0., 0., 1., 0., 0., 0., 0., 0., 0., 0., 0., 0., 0., 0., 0., 0.,\n",
       "        0., 0.],\n",
       "       [0., 0., 0., 0., 0., 0., 0., 0., 0., 0., 0., 0., 1., 0., 0., 0.,\n",
       "        0., 0.],\n",
       "       [0., 0., 0., 0., 0., 0., 0., 0., 0., 0., 0., 0., 0., 1., 0., 0.,\n",
       "        0., 0.],\n",
       "       [0., 0., 0., 1., 0., 0., 0., 0., 0., 0., 0., 0., 0., 0., 0., 0.,\n",
       "        0., 0.]], dtype=float32)"
      ]
     },
     "execution_count": 24,
     "metadata": {},
     "output_type": "execute_result"
    }
   ],
   "source": [
    "y"
   ]
  },
  {
   "cell_type": "code",
   "execution_count": 25,
   "id": "33005289-0af6-4716-8c5a-49e4f166d3d2",
   "metadata": {},
   "outputs": [],
   "source": [
    "model = Sequential([\n",
    "    Embedding(\n",
    "        input_dim = vocab_size,\n",
    "        output_dim = embed_size,\n",
    "        input_length = 2 * window\n",
    "    ),\n",
    "    Lambda(lambda x: tf.reduce_mean(x, axis = 1)),\n",
    "    Dense(units = vocab_size, activation = \"softmax\")\n",
    "])"
   ]
  },
  {
   "cell_type": "code",
   "execution_count": 26,
   "id": "55dfe967-a4c6-4828-bb5f-11218838a244",
   "metadata": {},
   "outputs": [],
   "source": [
    "model.compile(optimizer=\"adam\", loss = \"categorical_crossentropy\")"
   ]
  },
  {
   "cell_type": "code",
   "execution_count": 27,
   "id": "ff89998b-0b33-48b8-b56d-1c34ca575f97",
   "metadata": {},
   "outputs": [
    {
     "name": "stdout",
     "output_type": "stream",
     "text": [
      "1/1 [==============================] - 0s 53ms/step\n"
     ]
    },
    {
     "data": {
      "text/plain": [
       "array([[0.0556183 , 0.05645086, 0.05528839, 0.05507216, 0.05602587,\n",
       "        0.05602187, 0.05402622, 0.05658012, 0.05473107, 0.05592421,\n",
       "        0.05616669, 0.05534099, 0.05561258, 0.05536247, 0.05509952,\n",
       "        0.05480695, 0.05694553, 0.05492615]], dtype=float32)"
      ]
     },
     "execution_count": 27,
     "metadata": {},
     "output_type": "execute_result"
    }
   ],
   "source": [
    "model.predict(X[:1])"
   ]
  },
  {
   "cell_type": "code",
   "execution_count": 28,
   "id": "c4c3e668-c68d-4f57-b289-e33a4c69a5f4",
   "metadata": {},
   "outputs": [
    {
     "name": "stdout",
     "output_type": "stream",
     "text": [
      "Epoch 1/100\n",
      "1/1 [==============================] - 0s 494ms/step - loss: 2.8786\n",
      "Epoch 2/100\n",
      "1/1 [==============================] - 0s 3ms/step - loss: 2.8750\n",
      "Epoch 3/100\n",
      "1/1 [==============================] - 0s 6ms/step - loss: 2.8714\n",
      "Epoch 4/100\n",
      "1/1 [==============================] - 0s 9ms/step - loss: 2.8678\n",
      "Epoch 5/100\n",
      "1/1 [==============================] - 0s 4ms/step - loss: 2.8642\n",
      "Epoch 6/100\n",
      "1/1 [==============================] - 0s 5ms/step - loss: 2.8606\n",
      "Epoch 7/100\n",
      "1/1 [==============================] - 0s 5ms/step - loss: 2.8570\n",
      "Epoch 8/100\n",
      "1/1 [==============================] - 0s 4ms/step - loss: 2.8533\n",
      "Epoch 9/100\n",
      "1/1 [==============================] - 0s 11ms/step - loss: 2.8497\n",
      "Epoch 10/100\n",
      "1/1 [==============================] - 0s 0s/step - loss: 2.8460\n",
      "Epoch 11/100\n",
      "1/1 [==============================] - 0s 15ms/step - loss: 2.8423\n",
      "Epoch 12/100\n",
      "1/1 [==============================] - 0s 0s/step - loss: 2.8386\n",
      "Epoch 13/100\n",
      "1/1 [==============================] - 0s 16ms/step - loss: 2.8349\n",
      "Epoch 14/100\n",
      "1/1 [==============================] - 0s 0s/step - loss: 2.8312\n",
      "Epoch 15/100\n",
      "1/1 [==============================] - 0s 17ms/step - loss: 2.8274\n",
      "Epoch 16/100\n",
      "1/1 [==============================] - 0s 8ms/step - loss: 2.8237\n",
      "Epoch 17/100\n",
      "1/1 [==============================] - 0s 9ms/step - loss: 2.8199\n",
      "Epoch 18/100\n",
      "1/1 [==============================] - 0s 0s/step - loss: 2.8161\n",
      "Epoch 19/100\n",
      "1/1 [==============================] - 0s 16ms/step - loss: 2.8122\n",
      "Epoch 20/100\n",
      "1/1 [==============================] - 0s 0s/step - loss: 2.8084\n",
      "Epoch 21/100\n",
      "1/1 [==============================] - 0s 15ms/step - loss: 2.8045\n",
      "Epoch 22/100\n",
      "1/1 [==============================] - 0s 0s/step - loss: 2.8006\n",
      "Epoch 23/100\n",
      "1/1 [==============================] - 0s 15ms/step - loss: 2.7967\n",
      "Epoch 24/100\n",
      "1/1 [==============================] - 0s 1ms/step - loss: 2.7928\n",
      "Epoch 25/100\n",
      "1/1 [==============================] - 0s 0s/step - loss: 2.7888\n",
      "Epoch 26/100\n",
      "1/1 [==============================] - 0s 561us/step - loss: 2.7848\n",
      "Epoch 27/100\n",
      "1/1 [==============================] - 0s 7ms/step - loss: 2.7808\n",
      "Epoch 28/100\n",
      "1/1 [==============================] - 0s 7ms/step - loss: 2.7767\n",
      "Epoch 29/100\n",
      "1/1 [==============================] - 0s 0s/step - loss: 2.7727\n",
      "Epoch 30/100\n",
      "1/1 [==============================] - 0s 5ms/step - loss: 2.7686\n",
      "Epoch 31/100\n",
      "1/1 [==============================] - 0s 0s/step - loss: 2.7644\n",
      "Epoch 32/100\n",
      "1/1 [==============================] - 0s 13ms/step - loss: 2.7603\n",
      "Epoch 33/100\n",
      "1/1 [==============================] - 0s 0s/step - loss: 2.7561\n",
      "Epoch 34/100\n",
      "1/1 [==============================] - 0s 17ms/step - loss: 2.7518\n",
      "Epoch 35/100\n",
      "1/1 [==============================] - 0s 0s/step - loss: 2.7476\n",
      "Epoch 36/100\n",
      "1/1 [==============================] - 0s 15ms/step - loss: 2.7433\n",
      "Epoch 37/100\n",
      "1/1 [==============================] - 0s 0s/step - loss: 2.7390\n",
      "Epoch 38/100\n",
      "1/1 [==============================] - 0s 16ms/step - loss: 2.7347\n",
      "Epoch 39/100\n",
      "1/1 [==============================] - 0s 0s/step - loss: 2.7303\n",
      "Epoch 40/100\n",
      "1/1 [==============================] - 0s 17ms/step - loss: 2.7259\n",
      "Epoch 41/100\n",
      "1/1 [==============================] - 0s 0s/step - loss: 2.7214\n",
      "Epoch 42/100\n",
      "1/1 [==============================] - 0s 16ms/step - loss: 2.7169\n",
      "Epoch 43/100\n",
      "1/1 [==============================] - 0s 0s/step - loss: 2.7124\n",
      "Epoch 44/100\n",
      "1/1 [==============================] - 0s 14ms/step - loss: 2.7079\n",
      "Epoch 45/100\n",
      "1/1 [==============================] - 0s 0s/step - loss: 2.7033\n",
      "Epoch 46/100\n",
      "1/1 [==============================] - 0s 0s/step - loss: 2.6987\n",
      "Epoch 47/100\n",
      "1/1 [==============================] - 0s 2ms/step - loss: 2.6940\n",
      "Epoch 48/100\n",
      "1/1 [==============================] - 0s 0s/step - loss: 2.6894\n",
      "Epoch 49/100\n",
      "1/1 [==============================] - 0s 17ms/step - loss: 2.6846\n",
      "Epoch 50/100\n",
      "1/1 [==============================] - 0s 0s/step - loss: 2.6799\n",
      "Epoch 51/100\n",
      "1/1 [==============================] - 0s 18ms/step - loss: 2.6751\n",
      "Epoch 52/100\n",
      "1/1 [==============================] - 0s 0s/step - loss: 2.6703\n",
      "Epoch 53/100\n",
      "1/1 [==============================] - 0s 840us/step - loss: 2.6654\n",
      "Epoch 54/100\n",
      "1/1 [==============================] - 0s 0s/step - loss: 2.6605\n",
      "Epoch 55/100\n",
      "1/1 [==============================] - 0s 895us/step - loss: 2.6555\n",
      "Epoch 56/100\n",
      "1/1 [==============================] - 0s 17ms/step - loss: 2.6506\n",
      "Epoch 57/100\n",
      "1/1 [==============================] - 0s 18ms/step - loss: 2.6455\n",
      "Epoch 58/100\n",
      "1/1 [==============================] - 0s 11ms/step - loss: 2.6405\n",
      "Epoch 59/100\n",
      "1/1 [==============================] - 0s 9ms/step - loss: 2.6354\n",
      "Epoch 60/100\n",
      "1/1 [==============================] - 0s 0s/step - loss: 2.6303\n",
      "Epoch 61/100\n",
      "1/1 [==============================] - 0s 14ms/step - loss: 2.6251\n",
      "Epoch 62/100\n",
      "1/1 [==============================] - 0s 0s/step - loss: 2.6199\n",
      "Epoch 63/100\n",
      "1/1 [==============================] - 0s 18ms/step - loss: 2.6147\n",
      "Epoch 64/100\n",
      "1/1 [==============================] - 0s 6ms/step - loss: 2.6094\n",
      "Epoch 65/100\n",
      "1/1 [==============================] - 0s 10ms/step - loss: 2.6040\n",
      "Epoch 66/100\n",
      "1/1 [==============================] - 0s 8ms/step - loss: 2.5987\n",
      "Epoch 67/100\n",
      "1/1 [==============================] - 0s 0s/step - loss: 2.5933\n",
      "Epoch 68/100\n",
      "1/1 [==============================] - 0s 15ms/step - loss: 2.5878\n",
      "Epoch 69/100\n",
      "1/1 [==============================] - 0s 0s/step - loss: 2.5824\n",
      "Epoch 70/100\n",
      "1/1 [==============================] - 0s 0s/step - loss: 2.5769\n",
      "Epoch 71/100\n",
      "1/1 [==============================] - 0s 5ms/step - loss: 2.5713\n",
      "Epoch 72/100\n",
      "1/1 [==============================] - 0s 0s/step - loss: 2.5657\n",
      "Epoch 73/100\n",
      "1/1 [==============================] - 0s 6ms/step - loss: 2.5601\n",
      "Epoch 74/100\n",
      "1/1 [==============================] - 0s 0s/step - loss: 2.5544\n",
      "Epoch 75/100\n",
      "1/1 [==============================] - 0s 5ms/step - loss: 2.5487\n",
      "Epoch 76/100\n",
      "1/1 [==============================] - 0s 11ms/step - loss: 2.5430\n",
      "Epoch 77/100\n",
      "1/1 [==============================] - 0s 2ms/step - loss: 2.5372\n",
      "Epoch 78/100\n",
      "1/1 [==============================] - 0s 15ms/step - loss: 2.5314\n",
      "Epoch 79/100\n",
      "1/1 [==============================] - 0s 0s/step - loss: 2.5255\n",
      "Epoch 80/100\n",
      "1/1 [==============================] - 0s 6ms/step - loss: 2.5196\n",
      "Epoch 81/100\n",
      "1/1 [==============================] - 0s 0s/step - loss: 2.5137\n",
      "Epoch 82/100\n",
      "1/1 [==============================] - 0s 6ms/step - loss: 2.5077\n",
      "Epoch 83/100\n",
      "1/1 [==============================] - 0s 8ms/step - loss: 2.5017\n",
      "Epoch 84/100\n",
      "1/1 [==============================] - 0s 8ms/step - loss: 2.4956\n",
      "Epoch 85/100\n",
      "1/1 [==============================] - 0s 7ms/step - loss: 2.4895\n",
      "Epoch 86/100\n",
      "1/1 [==============================] - 0s 7ms/step - loss: 2.4834\n",
      "Epoch 87/100\n",
      "1/1 [==============================] - 0s 6ms/step - loss: 2.4772\n",
      "Epoch 88/100\n",
      "1/1 [==============================] - 0s 959us/step - loss: 2.4710\n",
      "Epoch 89/100\n",
      "1/1 [==============================] - 0s 12ms/step - loss: 2.4648\n",
      "Epoch 90/100\n",
      "1/1 [==============================] - 0s 5ms/step - loss: 2.4585\n",
      "Epoch 91/100\n",
      "1/1 [==============================] - 0s 6ms/step - loss: 2.4522\n",
      "Epoch 92/100\n",
      "1/1 [==============================] - 0s 4ms/step - loss: 2.4458\n",
      "Epoch 93/100\n",
      "1/1 [==============================] - 0s 0s/step - loss: 2.4394\n",
      "Epoch 94/100\n",
      "1/1 [==============================] - 0s 12ms/step - loss: 2.4330\n",
      "Epoch 95/100\n",
      "1/1 [==============================] - 0s 0s/step - loss: 2.4266\n",
      "Epoch 96/100\n",
      "1/1 [==============================] - 0s 12ms/step - loss: 2.4201\n",
      "Epoch 97/100\n",
      "1/1 [==============================] - 0s 5ms/step - loss: 2.4135\n",
      "Epoch 98/100\n",
      "1/1 [==============================] - 0s 6ms/step - loss: 2.4070\n",
      "Epoch 99/100\n",
      "1/1 [==============================] - 0s 7ms/step - loss: 2.4004\n",
      "Epoch 100/100\n",
      "1/1 [==============================] - 0s 7ms/step - loss: 2.3937\n"
     ]
    },
    {
     "data": {
      "text/plain": [
       "<keras.src.callbacks.History at 0x2c3e186b1f0>"
      ]
     },
     "execution_count": 28,
     "metadata": {},
     "output_type": "execute_result"
    }
   ],
   "source": [
    "model.fit(X, y, epochs = 100)"
   ]
  },
  {
   "cell_type": "code",
   "execution_count": 29,
   "id": "06a67afb-24e0-4f4d-8363-eac73c1bd67f",
   "metadata": {},
   "outputs": [
    {
     "data": {
      "text/plain": [
       "{'learning': 1,\n",
       " 'nlp': 2,\n",
       " 'is': 3,\n",
       " 'for': 4,\n",
       " 'word': 5,\n",
       " 'i': 6,\n",
       " 'enjoy': 7,\n",
       " 'and': 8,\n",
       " 'machine': 9,\n",
       " 'cbow': 10,\n",
       " 'an': 11,\n",
       " 'interesting': 12,\n",
       " 'model': 13,\n",
       " 'embeddings': 14,\n",
       " 'understanding': 15,\n",
       " 'context': 16,\n",
       " 'important': 17}"
      ]
     },
     "execution_count": 29,
     "metadata": {},
     "output_type": "execute_result"
    }
   ],
   "source": [
    "tokenizer.word_index"
   ]
  },
  {
   "cell_type": "code",
   "execution_count": 30,
   "id": "8506ff2c-563d-4670-b02e-d30869c52593",
   "metadata": {},
   "outputs": [
    {
     "data": {
      "image/png": "[encoded data removed]",
      "text/plain": [
       "<Figure size 640x480 with 1 Axes>"
      ]
     },
     "metadata": {},
     "output_type": "display_data"
    }
   ],
   "source": [
    "embeddings = model.get_weights()[0]\n",
    "# The [0] selects the first element in the list, which is the embedding matrix of shape (vocab_size, embedding_size), \n",
    "# representing the word embeddings for each word in the vocabulary\n",
    "\n",
    "pca = PCA(n_components=2)\n",
    "reduced_embeddings = pca.fit_transform(embeddings)\n",
    "\n",
    "for i,word in enumerate(tokenizer.word_index.keys()):\n",
    "    x,y = reduced_embeddings[i]\n",
    "    plt.scatter(x,y)\n",
    "    plt.annotate(word, xy=(x,y), xytext=(5,2), textcoords = \"offset points\", ha=\"right\", va=\"bottom\")\n",
    "\n",
    "plt.show()"
   ]
  }
 ],
 "metadata": {
  "kernelspec": {
   "display_name": "Python 3 (ipykernel)",
   "language": "python",
   "name": "python3"
  },
  "language_info": {
   "codemirror_mode": {
    "name": "ipython",
    "version": 3
   },
   "file_extension": ".py",
   "mimetype": "text/x-python",
   "name": "python",
   "nbconvert_exporter": "python",
   "pygments_lexer": "ipython3",
   "version": "3.10.0"
  }
 },
 "nbformat": 4,
 "nbformat_minor": 5
}
