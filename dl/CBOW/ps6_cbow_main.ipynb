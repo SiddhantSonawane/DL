{
 "cells": [
  {
   "cell_type": "code",
   "execution_count": 21,
   "id": "50d92c04-a315-451e-9b27-9087dd7dce98",
   "metadata": {},
   "outputs": [],
   "source": [
    "import tensorflow as tf\n",
    "from tensorflow.keras.models import Sequential\n",
    "from tensorflow.keras.layers import Dense, Embedding, Lambda\n",
    "from tensorflow.keras.preprocessing.text import Tokenizer\n",
    "import numpy as np\n",
    "import matplotlib.pyplot as plt\n",
    "from sklearn.decomposition import PCA\n",
    "from tensorflow.keras.utils import to_categorical"
   ]
  },
  {
   "cell_type": "code",
   "execution_count": 38,
   "id": "ac582f40-ac43-4028-a859-c6b64eac70f9",
   "metadata": {},
   "outputs": [],
   "source": [
    "corpus = [\"I enjoy learning NLP and machine learning\",\n",
    "          \"CBOW is an interesting model for word embeddings\",\n",
    "          \"Understanding word context is important for NLP\"]"
   ]
  },
  {
   "cell_type": "code",
   "execution_count": 23,
   "id": "525fb19f-e179-4c41-b129-601fe4127720",
   "metadata": {},
   "outputs": [
    {
     "name": "stdout",
     "output_type": "stream",
     "text": [
      "After converting our words in corpus into vector of integers: \n",
      "[[6, 7, 1, 2, 8, 9, 1], [10, 3, 11, 12, 13, 4, 5, 14], [15, 5, 16, 3, 17, 4, 2]]\n"
     ]
    }
   ],
   "source": [
    "# Convert the corpus to a sequence of integers\n",
    "tokenizer = Tokenizer()\n",
    "tokenizer.fit_on_texts(corpus)\n",
    "sequences = tokenizer.texts_to_sequences(corpus)\n",
    "print(\"After converting our words in corpus into vector of integers: \")\n",
    "print(sequences)"
   ]
  },
  {
   "cell_type": "code",
   "execution_count": 32,
   "id": "5087a85d-af1e-4254-a5f9-ea03f19779af",
   "metadata": {},
   "outputs": [],
   "source": [
    "vocab_size = len(tokenizer.word_index) + 1\n",
    "embedding_size = 10\n",
    "window_size = 3\n",
    "\n",
    "# Generate context-target pairs\n",
    "contexts = []\n",
    "targets = []\n",
    "for seq in sequences:\n",
    "  for i in range(window_size, len(seq) - window_size):\n",
    "    context = seq[i-window_size:i] + seq[i+1 : i+window_size+1]\n",
    "    target = seq[i]\n",
    "    contexts.append(context)\n",
    "    targets.append(target)\n",
    "\n",
    "X = np.array(contexts)\n",
    "y = to_categorical(targets, vocab_size)"
   ]
  },
  {
   "cell_type": "code",
   "execution_count": 34,
   "id": "34079a65-0cca-416c-b806-d34a4aa9e6fd",
   "metadata": {},
   "outputs": [
    {
     "data": {
      "text/plain": [
       "array([[ 6,  7,  1,  8,  9,  1],\n",
       "       [10,  3, 11, 13,  4,  5],\n",
       "       [ 3, 11, 12,  4,  5, 14],\n",
       "       [15,  5, 16, 17,  4,  2]])"
      ]
     },
     "execution_count": 34,
     "metadata": {},
     "output_type": "execute_result"
    }
   ],
   "source": [
    "X"
   ]
  },
  {
   "cell_type": "code",
   "execution_count": 35,
   "id": "0a3428a1-f49a-4982-83e2-5238f820bb2f",
   "metadata": {},
   "outputs": [
    {
     "data": {
      "text/plain": [
       "array([[0., 0., 1., 0., 0., 0., 0., 0., 0., 0., 0., 0., 0., 0., 0., 0.,\n",
       "        0., 0.],\n",
       "       [0., 0., 0., 0., 0., 0., 0., 0., 0., 0., 0., 0., 1., 0., 0., 0.,\n",
       "        0., 0.],\n",
       "       [0., 0., 0., 0., 0., 0., 0., 0., 0., 0., 0., 0., 0., 1., 0., 0.,\n",
       "        0., 0.],\n",
       "       [0., 0., 0., 1., 0., 0., 0., 0., 0., 0., 0., 0., 0., 0., 0., 0.,\n",
       "        0., 0.]], dtype=float32)"
      ]
     },
     "execution_count": 35,
     "metadata": {},
     "output_type": "execute_result"
    }
   ],
   "source": [
    "y"
   ]
  },
  {
   "cell_type": "code",
   "execution_count": 27,
   "id": "dd7498d6-3b92-41da-b0a6-429ba8acc915",
   "metadata": {},
   "outputs": [],
   "source": [
    "model = Sequential([\n",
    "    Embedding(input_dim=vocab_size,\n",
    "              output_dim=embedding_size,\n",
    "              input_length=2*window_size),\n",
    "    Lambda(lambda x: tf.reduce_mean(x, axis=1)),\n",
    "    Dense(units=vocab_size,activation='softmax')\n",
    "])"
   ]
  },
  {
   "cell_type": "code",
   "execution_count": 28,
   "id": "2eebcde5-591f-4756-90e3-cbe4da6e27e3",
   "metadata": {},
   "outputs": [],
   "source": [
    "model.compile(optimizer='adam', loss='categorical_crossentropy')"
   ]
  },
  {
   "cell_type": "code",
   "execution_count": 29,
   "id": "21731ec2-e2b1-4b57-8e40-1fc070b69881",
   "metadata": {},
   "outputs": [
    {
     "name": "stdout",
     "output_type": "stream",
     "text": [
      "1/1 [==============================] - 0s 200ms/step\n"
     ]
    },
    {
     "data": {
      "text/plain": [
       "array([[0.05609935, 0.05653603, 0.05535836, 0.05559448, 0.0574756 ,\n",
       "        0.05529216, 0.05514563, 0.05473816, 0.05477583, 0.05555241,\n",
       "        0.05594687, 0.05474113, 0.05594881, 0.0546831 , 0.05533695,\n",
       "        0.05496847, 0.05581777, 0.05598888]], dtype=float32)"
      ]
     },
     "execution_count": 29,
     "metadata": {},
     "output_type": "execute_result"
    }
   ],
   "source": [
    "model.predict(X[:1])  # Initialize weights by making a prediction"
   ]
  },
  {
   "cell_type": "code",
   "execution_count": 37,
   "id": "3f36dd5f-53d9-440f-b4c9-0dfeb2da1429",
   "metadata": {},
   "outputs": [
    {
     "name": "stdout",
     "output_type": "stream",
     "text": [
      "Epoch 1/100\n",
      "1/1 [==============================] - 0s 16ms/step - loss: 2.4304\n",
      "Epoch 2/100\n",
      "1/1 [==============================] - 0s 5ms/step - loss: 2.4238\n",
      "Epoch 3/100\n",
      "1/1 [==============================] - 0s 10ms/step - loss: 2.4172\n",
      "Epoch 4/100\n",
      "1/1 [==============================] - 0s 7ms/step - loss: 2.4105\n",
      "Epoch 5/100\n",
      "1/1 [==============================] - 0s 9ms/step - loss: 2.4038\n",
      "Epoch 6/100\n",
      "1/1 [==============================] - 0s 882us/step - loss: 2.3971\n",
      "Epoch 7/100\n",
      "1/1 [==============================] - 0s 6ms/step - loss: 2.3903\n",
      "Epoch 8/100\n",
      "1/1 [==============================] - 0s 0s/step - loss: 2.3835\n",
      "Epoch 9/100\n",
      "1/1 [==============================] - 0s 5ms/step - loss: 2.3766\n",
      "Epoch 10/100\n",
      "1/1 [==============================] - 0s 13ms/step - loss: 2.3697\n",
      "Epoch 11/100\n",
      "1/1 [==============================] - 0s 17ms/step - loss: 2.3628\n",
      "Epoch 12/100\n",
      "1/1 [==============================] - 0s 0s/step - loss: 2.3558\n",
      "Epoch 13/100\n",
      "1/1 [==============================] - 0s 7ms/step - loss: 2.3488\n",
      "Epoch 14/100\n",
      "1/1 [==============================] - 0s 10ms/step - loss: 2.3418\n",
      "Epoch 15/100\n",
      "1/1 [==============================] - 0s 7ms/step - loss: 2.3347\n",
      "Epoch 16/100\n",
      "1/1 [==============================] - 0s 8ms/step - loss: 2.3277\n",
      "Epoch 17/100\n",
      "1/1 [==============================] - 0s 2ms/step - loss: 2.3205\n",
      "Epoch 18/100\n",
      "1/1 [==============================] - 0s 15ms/step - loss: 2.3134\n",
      "Epoch 19/100\n",
      "1/1 [==============================] - 0s 4ms/step - loss: 2.3062\n",
      "Epoch 20/100\n",
      "1/1 [==============================] - 0s 13ms/step - loss: 2.2989\n",
      "Epoch 21/100\n",
      "1/1 [==============================] - 0s 0s/step - loss: 2.2917\n",
      "Epoch 22/100\n",
      "1/1 [==============================] - 0s 3ms/step - loss: 2.2844\n",
      "Epoch 23/100\n",
      "1/1 [==============================] - 0s 13ms/step - loss: 2.2771\n",
      "Epoch 24/100\n",
      "1/1 [==============================] - 0s 3ms/step - loss: 2.2697\n",
      "Epoch 25/100\n",
      "1/1 [==============================] - 0s 14ms/step - loss: 2.2624\n",
      "Epoch 26/100\n",
      "1/1 [==============================] - 0s 1ms/step - loss: 2.2550\n",
      "Epoch 27/100\n",
      "1/1 [==============================] - 0s 16ms/step - loss: 2.2475\n",
      "Epoch 28/100\n",
      "1/1 [==============================] - 0s 0s/step - loss: 2.2401\n",
      "Epoch 29/100\n",
      "1/1 [==============================] - 0s 6ms/step - loss: 2.2326\n",
      "Epoch 30/100\n",
      "1/1 [==============================] - 0s 9ms/step - loss: 2.2250\n",
      "Epoch 31/100\n",
      "1/1 [==============================] - 0s 5ms/step - loss: 2.2175\n",
      "Epoch 32/100\n",
      "1/1 [==============================] - 0s 12ms/step - loss: 2.2099\n",
      "Epoch 33/100\n",
      "1/1 [==============================] - 0s 3ms/step - loss: 2.2023\n",
      "Epoch 34/100\n",
      "1/1 [==============================] - 0s 12ms/step - loss: 2.1947\n",
      "Epoch 35/100\n",
      "1/1 [==============================] - 0s 2ms/step - loss: 2.1871\n",
      "Epoch 36/100\n",
      "1/1 [==============================] - 0s 13ms/step - loss: 2.1794\n",
      "Epoch 37/100\n",
      "1/1 [==============================] - 0s 4ms/step - loss: 2.1717\n",
      "Epoch 38/100\n",
      "1/1 [==============================] - 0s 6ms/step - loss: 2.1640\n",
      "Epoch 39/100\n",
      "1/1 [==============================] - 0s 0s/step - loss: 2.1563\n",
      "Epoch 40/100\n",
      "1/1 [==============================] - 0s 6ms/step - loss: 2.1485\n",
      "Epoch 41/100\n",
      "1/1 [==============================] - 0s 15ms/step - loss: 2.1407\n",
      "Epoch 42/100\n",
      "1/1 [==============================] - 0s 21ms/step - loss: 2.1329\n",
      "Epoch 43/100\n",
      "1/1 [==============================] - 0s 8ms/step - loss: 2.1251\n",
      "Epoch 44/100\n",
      "1/1 [==============================] - 0s 12ms/step - loss: 2.1173\n",
      "Epoch 45/100\n",
      "1/1 [==============================] - 0s 9ms/step - loss: 2.1094\n",
      "Epoch 46/100\n",
      "1/1 [==============================] - 0s 2ms/step - loss: 2.1015\n",
      "Epoch 47/100\n",
      "1/1 [==============================] - 0s 16ms/step - loss: 2.0936\n",
      "Epoch 48/100\n",
      "1/1 [==============================] - 0s 848us/step - loss: 2.0857\n",
      "Epoch 49/100\n",
      "1/1 [==============================] - 0s 15ms/step - loss: 2.0778\n",
      "Epoch 50/100\n",
      "1/1 [==============================] - 0s 2ms/step - loss: 2.0699\n",
      "Epoch 51/100\n",
      "1/1 [==============================] - 0s 6ms/step - loss: 2.0619\n",
      "Epoch 52/100\n",
      "1/1 [==============================] - 0s 6ms/step - loss: 2.0539\n",
      "Epoch 53/100\n",
      "1/1 [==============================] - 0s 8ms/step - loss: 2.0459\n",
      "Epoch 54/100\n",
      "1/1 [==============================] - 0s 6ms/step - loss: 2.0379\n",
      "Epoch 55/100\n",
      "1/1 [==============================] - 0s 4ms/step - loss: 2.0299\n",
      "Epoch 56/100\n",
      "1/1 [==============================] - 0s 12ms/step - loss: 2.0219\n",
      "Epoch 57/100\n",
      "1/1 [==============================] - 0s 7ms/step - loss: 2.0139\n",
      "Epoch 58/100\n",
      "1/1 [==============================] - 0s 7ms/step - loss: 2.0058\n",
      "Epoch 59/100\n",
      "1/1 [==============================] - 0s 10ms/step - loss: 1.9978\n",
      "Epoch 60/100\n",
      "1/1 [==============================] - 0s 6ms/step - loss: 1.9897\n",
      "Epoch 61/100\n",
      "1/1 [==============================] - 0s 5ms/step - loss: 1.9816\n",
      "Epoch 62/100\n",
      "1/1 [==============================] - 0s 11ms/step - loss: 1.9735\n",
      "Epoch 63/100\n",
      "1/1 [==============================] - 0s 5ms/step - loss: 1.9654\n",
      "Epoch 64/100\n",
      "1/1 [==============================] - 0s 6ms/step - loss: 1.9573\n",
      "Epoch 65/100\n",
      "1/1 [==============================] - 0s 3ms/step - loss: 1.9492\n",
      "Epoch 66/100\n",
      "1/1 [==============================] - 0s 13ms/step - loss: 1.9411\n",
      "Epoch 67/100\n",
      "1/1 [==============================] - 0s 6ms/step - loss: 1.9330\n",
      "Epoch 68/100\n",
      "1/1 [==============================] - 0s 7ms/step - loss: 1.9249\n",
      "Epoch 69/100\n",
      "1/1 [==============================] - 0s 2ms/step - loss: 1.9167\n",
      "Epoch 70/100\n",
      "1/1 [==============================] - 0s 13ms/step - loss: 1.9086\n",
      "Epoch 71/100\n",
      "1/1 [==============================] - 0s 5ms/step - loss: 1.9005\n",
      "Epoch 72/100\n",
      "1/1 [==============================] - 0s 5ms/step - loss: 1.8923\n",
      "Epoch 73/100\n",
      "1/1 [==============================] - 0s 5ms/step - loss: 1.8842\n",
      "Epoch 74/100\n",
      "1/1 [==============================] - 0s 11ms/step - loss: 1.8760\n",
      "Epoch 75/100\n",
      "1/1 [==============================] - 0s 7ms/step - loss: 1.8679\n",
      "Epoch 76/100\n",
      "1/1 [==============================] - 0s 8ms/step - loss: 1.8598\n",
      "Epoch 77/100\n",
      "1/1 [==============================] - 0s 7ms/step - loss: 1.8516\n",
      "Epoch 78/100\n",
      "1/1 [==============================] - 0s 6ms/step - loss: 1.8435\n",
      "Epoch 79/100\n",
      "1/1 [==============================] - 0s 7ms/step - loss: 1.8353\n",
      "Epoch 80/100\n",
      "1/1 [==============================] - 0s 6ms/step - loss: 1.8272\n",
      "Epoch 81/100\n",
      "1/1 [==============================] - 0s 7ms/step - loss: 1.8191\n",
      "Epoch 82/100\n",
      "1/1 [==============================] - 0s 5ms/step - loss: 1.8109\n",
      "Epoch 83/100\n",
      "1/1 [==============================] - 0s 6ms/step - loss: 1.8028\n",
      "Epoch 84/100\n",
      "1/1 [==============================] - 0s 5ms/step - loss: 1.7947\n",
      "Epoch 85/100\n",
      "1/1 [==============================] - 0s 5ms/step - loss: 1.7866\n",
      "Epoch 86/100\n",
      "1/1 [==============================] - 0s 5ms/step - loss: 1.7784\n",
      "Epoch 87/100\n",
      "1/1 [==============================] - 0s 0s/step - loss: 1.7703\n",
      "Epoch 88/100\n",
      "1/1 [==============================] - 0s 14ms/step - loss: 1.7622\n",
      "Epoch 89/100\n",
      "1/1 [==============================] - 0s 5ms/step - loss: 1.7542\n",
      "Epoch 90/100\n",
      "1/1 [==============================] - 0s 5ms/step - loss: 1.7461\n",
      "Epoch 91/100\n",
      "1/1 [==============================] - 0s 6ms/step - loss: 1.7380\n",
      "Epoch 92/100\n",
      "1/1 [==============================] - 0s 5ms/step - loss: 1.7299\n",
      "Epoch 93/100\n",
      "1/1 [==============================] - 0s 5ms/step - loss: 1.7219\n",
      "Epoch 94/100\n",
      "1/1 [==============================] - 0s 5ms/step - loss: 1.7138\n",
      "Epoch 95/100\n",
      "1/1 [==============================] - 0s 4ms/step - loss: 1.7058\n",
      "Epoch 96/100\n",
      "1/1 [==============================] - 0s 31ms/step - loss: 1.6978\n",
      "Epoch 97/100\n",
      "1/1 [==============================] - 0s 6ms/step - loss: 1.6898\n",
      "Epoch 98/100\n",
      "1/1 [==============================] - 0s 5ms/step - loss: 1.6818\n",
      "Epoch 99/100\n",
      "1/1 [==============================] - 0s 5ms/step - loss: 1.6738\n",
      "Epoch 100/100\n",
      "1/1 [==============================] - 0s 5ms/step - loss: 1.6658\n"
     ]
    },
    {
     "data": {
      "text/plain": [
       "<keras.src.callbacks.History at 0x239a75dee90>"
      ]
     },
     "execution_count": 37,
     "metadata": {},
     "output_type": "execute_result"
    }
   ],
   "source": [
    "model.fit(X, y, epochs=100)"
   ]
  },
  {
   "cell_type": "code",
   "execution_count": 43,
   "id": "e31a78f7-b127-4339-8bb5-f5a367d05ae8",
   "metadata": {},
   "outputs": [
    {
     "data": {
      "text/plain": [
       "{'learning': 1,\n",
       " 'nlp': 2,\n",
       " 'is': 3,\n",
       " 'for': 4,\n",
       " 'word': 5,\n",
       " 'i': 6,\n",
       " 'enjoy': 7,\n",
       " 'and': 8,\n",
       " 'machine': 9,\n",
       " 'cbow': 10,\n",
       " 'an': 11,\n",
       " 'interesting': 12,\n",
       " 'model': 13,\n",
       " 'embeddings': 14,\n",
       " 'understanding': 15,\n",
       " 'context': 16,\n",
       " 'important': 17}"
      ]
     },
     "execution_count": 43,
     "metadata": {},
     "output_type": "execute_result"
    }
   ],
   "source": [
    "tokenizer.word_index"
   ]
  },
  {
   "cell_type": "code",
   "execution_count": 46,
   "id": "b3f92d15-baf8-44ff-81dc-b6106c0c4144",
   "metadata": {},
   "outputs": [
    {
     "data": {
      "image/png": "[encoded data removed]",
      "text/plain": [
       "<Figure size 500x500 with 1 Axes>"
      ]
     },
     "metadata": {},
     "output_type": "display_data"
    }
   ],
   "source": [
    "embeddings = model.get_weights()[0]\n",
    "\n",
    "# Perform PCA to reduce the dimensionality\n",
    "# of the embeddings\n",
    "pca = PCA(n_components=2)\n",
    "reduced_embeddings = pca.fit_transform(embeddings)\n",
    "\n",
    "# Visualize the embeddings\n",
    "plt.figure(figsize=(5, 5))\n",
    "for i, word in enumerate(tokenizer.word_index.keys()):\n",
    "    x, y = reduced_embeddings[i]\n",
    "    plt.scatter(x, y)\n",
    "    plt.annotate(word, xy=(x, y), xytext=(5, 2),\n",
    "                 textcoords='offset points',\n",
    "                 ha='right', va='bottom')\n",
    "plt.show()"
   ]
  }
 ],
 "metadata": {
  "kernelspec": {
   "display_name": "Python 3 (ipykernel)",
   "language": "python",
   "name": "python3"
  },
  "language_info": {
   "codemirror_mode": {
    "name": "ipython",
    "version": 3
   },
   "file_extension": ".py",
   "mimetype": "text/x-python",
   "name": "python",
   "nbconvert_exporter": "python",
   "pygments_lexer": "ipython3",
   "version": "3.10.0"
  }
 },
 "nbformat": 4,
 "nbformat_minor": 5
}
