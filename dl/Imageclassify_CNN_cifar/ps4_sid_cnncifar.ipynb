{
 "cells": [
  {
   "cell_type": "code",
   "execution_count": 18,
   "id": "1352b8a6-f141-4f64-98d8-2b0fe2966621",
   "metadata": {},
   "outputs": [],
   "source": [
    "import tensorflow as tf\n",
    "import numpy as np\n",
    "import matplotlib.pyplot as plt\n",
    "from tensorflow.keras.models import Sequential\n",
    "from tensorflow.keras.layers import Conv2D, MaxPooling2D, Dense, Flatten, Dropout\n",
    "from tensorflow.keras.optimizers import Adam"
   ]
  },
  {
   "cell_type": "code",
   "execution_count": 19,
   "id": "cf8f98ea-acfd-4fdf-8f66-51caf14c36cd",
   "metadata": {},
   "outputs": [],
   "source": [
    "(x_train,y_train), (x_test,y_test) = tf.keras.datasets.cifar10.load_data()"
   ]
  },
  {
   "cell_type": "code",
   "execution_count": 20,
   "id": "77f89b45-992d-4197-ac1b-5ae342cfad06",
   "metadata": {},
   "outputs": [
    {
     "data": {
      "text/plain": [
       "(50000, 32, 32, 3)"
      ]
     },
     "execution_count": 20,
     "metadata": {},
     "output_type": "execute_result"
    }
   ],
   "source": [
    "x_train.shape"
   ]
  },
  {
   "cell_type": "code",
   "execution_count": 21,
   "id": "ea7ac773-3a8e-4b47-8331-43515ee50669",
   "metadata": {},
   "outputs": [
    {
     "data": {
      "text/plain": [
       "(50000, 1)"
      ]
     },
     "execution_count": 21,
     "metadata": {},
     "output_type": "execute_result"
    }
   ],
   "source": [
    "y_train.shape"
   ]
  },
  {
   "cell_type": "code",
   "execution_count": 22,
   "id": "b8c87fba-4c58-4328-99df-c2d3b6cda314",
   "metadata": {},
   "outputs": [
    {
     "data": {
      "text/plain": [
       "(10000, 32, 32, 3)"
      ]
     },
     "execution_count": 22,
     "metadata": {},
     "output_type": "execute_result"
    }
   ],
   "source": [
    "x_test.shape"
   ]
  },
  {
   "cell_type": "code",
   "execution_count": 23,
   "id": "4ce73e08-17db-4180-9023-e22e947f0761",
   "metadata": {},
   "outputs": [
    {
     "data": {
      "text/plain": [
       "(10000, 1)"
      ]
     },
     "execution_count": 23,
     "metadata": {},
     "output_type": "execute_result"
    }
   ],
   "source": [
    "y_test.shape"
   ]
  },
  {
   "cell_type": "code",
   "execution_count": 24,
   "id": "14dcb27a-0eed-472d-a4a5-6587f65c04ee",
   "metadata": {},
   "outputs": [],
   "source": [
    "x_train = x_train.astype(\"float32\") / 255.0\n",
    "x_test = x_test.astype(\"float32\") / 255.0"
   ]
  },
  {
   "cell_type": "code",
   "execution_count": 25,
   "id": "90598c02-c88b-4a29-9b7e-ab133f42f82b",
   "metadata": {},
   "outputs": [],
   "source": [
    "from tensorflow.keras.utils import to_categorical\n",
    "\n",
    "y_train = to_categorical(y_train, 10)\n",
    "y_test = to_categorical(y_test, 10)"
   ]
  },
  {
   "cell_type": "code",
   "execution_count": 26,
   "id": "eadfdae2-5a13-4c45-98aa-99c4a79f2da6",
   "metadata": {},
   "outputs": [
    {
     "data": {
      "text/plain": [
       "(50000, 10)"
      ]
     },
     "execution_count": 26,
     "metadata": {},
     "output_type": "execute_result"
    }
   ],
   "source": [
    "y_train.shape"
   ]
  },
  {
   "cell_type": "code",
   "execution_count": 27,
   "id": "7c458758-f37b-4285-9d99-44e96671e0ad",
   "metadata": {},
   "outputs": [],
   "source": [
    "model = Sequential([\n",
    "    Conv2D(32, (3,3), input_shape = (32, 32, 3), activation = \"relu\"),\n",
    "    MaxPooling2D(pool_size=(2,2)),\n",
    "    Conv2D(64, (3,3), activation = \"relu\"),\n",
    "    MaxPooling2D(pool_size=(2,2)),\n",
    "    Conv2D(128, (3,3), activation = \"relu\"),\n",
    "    MaxPooling2D(pool_size=(2,2)),\n",
    "    Flatten(),\n",
    "    Dense(64, activation=\"relu\"),\n",
    "    Dropout(0.5),\n",
    "    Dense(10, activation = \"softmax\")\n",
    "])"
   ]
  },
  {
   "cell_type": "code",
   "execution_count": 28,
   "id": "64e2d3f7-3bd9-4e1a-aa1b-78491557f349",
   "metadata": {},
   "outputs": [
    {
     "name": "stdout",
     "output_type": "stream",
     "text": [
      "Epoch 1/5\n",
      "782/782 [==============================] - 68s 84ms/step - loss: 1.7800 - accuracy: 0.3373 - val_loss: 1.3921 - val_accuracy: 0.5079\n",
      "Epoch 2/5\n",
      "782/782 [==============================] - 64s 82ms/step - loss: 1.4380 - accuracy: 0.4797 - val_loss: 1.2796 - val_accuracy: 0.5375\n",
      "Epoch 3/5\n",
      "782/782 [==============================] - 64s 82ms/step - loss: 1.2932 - accuracy: 0.5400 - val_loss: 1.1538 - val_accuracy: 0.5874\n",
      "Epoch 4/5\n",
      "782/782 [==============================] - 64s 82ms/step - loss: 1.1920 - accuracy: 0.5788 - val_loss: 1.0609 - val_accuracy: 0.6264\n",
      "Epoch 5/5\n",
      "782/782 [==============================] - 62s 79ms/step - loss: 1.1078 - accuracy: 0.6109 - val_loss: 1.0208 - val_accuracy: 0.6429\n"
     ]
    }
   ],
   "source": [
    "model.compile(\n",
    "    optimizer = Adam(),\n",
    "    loss = \"categorical_crossentropy\",\n",
    "    metrics = ['accuracy']\n",
    ")\n",
    "\n",
    "history = model.fit(x_train, y_train, epochs = 5, batch_size = 64, validation_data = (x_test, y_test))"
   ]
  },
  {
   "cell_type": "code",
   "execution_count": 30,
   "id": "979aabee-56aa-46d7-a582-87b6cc92414d",
   "metadata": {},
   "outputs": [
    {
     "name": "stdout",
     "output_type": "stream",
     "text": [
      "313/313 [==============================] - 6s 20ms/step - loss: 1.0208 - accuracy: 0.6429\n",
      "Test accuracy is : 0.6428999900817871\n"
     ]
    }
   ],
   "source": [
    "test_loss, test_acc = model.evaluate(x_test, y_test)\n",
    "print(f\"Test accuracy is : {test_acc}\")\n",
    "\n",
    "\n",
    "# from sklearn.preprocessing import classification_report\n",
    "# pred = model.predict(x_test)\n",
    "\n",
    "# true_classes = y_test.argmax(axis = 1)\n",
    "# pred_classes = pred.argmax(axis=1)\n",
    "# rep = classification_report(true_classes, pred_classes)"
   ]
  },
  {
   "cell_type": "code",
   "execution_count": 32,
   "id": "ba725c1e-6607-498a-bfab-15480236ba39",
   "metadata": {},
   "outputs": [
    {
     "name": "stdout",
     "output_type": "stream",
     "text": [
      "313/313 [==============================] - 6s 20ms/step\n"
     ]
    }
   ],
   "source": [
    "from sklearn.metrics import classification_report\n",
    "pred = model.predict(x_test)\n",
    "\n",
    "true_classes = y_test.argmax(axis = 1)\n",
    "pred_classes = pred.argmax(axis=1)\n",
    "rep = classification_report(true_classes, pred_classes)"
   ]
  },
  {
   "cell_type": "code",
   "execution_count": 33,
   "id": "cfb8fcec-f70f-422c-ac1d-c1b6348a58a0",
   "metadata": {},
   "outputs": [
    {
     "name": "stdout",
     "output_type": "stream",
     "text": [
      "              precision    recall  f1-score   support\n",
      "\n",
      "           0       0.74      0.66      0.70      1000\n",
      "           1       0.87      0.72      0.79      1000\n",
      "           2       0.69      0.29      0.41      1000\n",
      "           3       0.39      0.53      0.45      1000\n",
      "           4       0.56      0.59      0.58      1000\n",
      "           5       0.52      0.57      0.54      1000\n",
      "           6       0.71      0.72      0.71      1000\n",
      "           7       0.66      0.74      0.70      1000\n",
      "           8       0.75      0.81      0.78      1000\n",
      "           9       0.70      0.80      0.75      1000\n",
      "\n",
      "    accuracy                           0.64     10000\n",
      "   macro avg       0.66      0.64      0.64     10000\n",
      "weighted avg       0.66      0.64      0.64     10000\n",
      "\n"
     ]
    }
   ],
   "source": [
    "print(rep)"
   ]
  },
  {
   "cell_type": "code",
   "execution_count": 35,
   "id": "37b3ae58-5f01-4a81-b446-01276f9e5555",
   "metadata": {},
   "outputs": [
    {
     "name": "stdout",
     "output_type": "stream",
     "text": [
      "1/1 [==============================] - 0s 60ms/step\n"
     ]
    },
    {
     "data": {
      "image/png": "[encoded data removed]",
      "text/plain": [
       "<Figure size 640x480 with 1 Axes>"
      ]
     },
     "metadata": {},
     "output_type": "display_data"
    },
    {
     "name": "stdout",
     "output_type": "stream",
     "text": [
      "1/1 [==============================] - 0s 65ms/step\n"
     ]
    },
    {
     "data": {
      "image/png": "[encoded data removed]",
      "text/plain": [
       "<Figure size 640x480 with 1 Axes>"
      ]
     },
     "metadata": {},
     "output_type": "display_data"
    },
    {
     "name": "stdout",
     "output_type": "stream",
     "text": [
      "1/1 [==============================] - 0s 58ms/step\n"
     ]
    },
    {
     "data": {
      "image/png": "[encoded data removed]",
      "text/plain": [
       "<Figure size 640x480 with 1 Axes>"
      ]
     },
     "metadata": {},
     "output_type": "display_data"
    },
    {
     "data": {
      "image/png": "[encoded data removed]",
      "text/plain": [
       "<Figure size 640x480 with 1 Axes>"
      ]
     },
     "metadata": {},
     "output_type": "display_data"
    }
   ],
   "source": [
    "n = 3\n",
    "random_choices = np.random.choice(x_test.shape[0], n, replace = False)\n",
    "\n",
    "class_names = ['airplane', 'automobile', 'bird', 'cat', 'deer', 'dog', 'frog', 'horse', 'ship', 'truck']\n",
    "\n",
    "for i,idx in enumerate(random_choices):\n",
    "    img = x_test[idx]\n",
    "    label = np.argmax(y_test[idx])\n",
    "\n",
    "    pred = model.predict(np.expand_dims(img, axis=0))\n",
    "    pred_l = np.argmax(pred)\n",
    "\n",
    "    plt.title(f\"Actual label: {class_names[label]}, Predicted Label: {class_names[pred_l]}\")\n",
    "    plt.imshow(img)\n",
    "    plt.show()\n",
    "    plt.axis('off')"
   ]
  }
 ],
 "metadata": {
  "kernelspec": {
   "display_name": "Python 3 (ipykernel)",
   "language": "python",
   "name": "python3"
  },
  "language_info": {
   "codemirror_mode": {
    "name": "ipython",
    "version": 3
   },
   "file_extension": ".py",
   "mimetype": "text/x-python",
   "name": "python",
   "nbconvert_exporter": "python",
   "pygments_lexer": "ipython3",
   "version": "3.10.0"
  }
 },
 "nbformat": 4,
 "nbformat_minor": 5
}
