{
 "cells": [
  {
   "cell_type": "code",
   "execution_count": 1,
   "id": "0da1ad14-8186-4f74-bd6b-75ce11247f45",
   "metadata": {},
   "outputs": [],
   "source": [
    "import tensorflow as tf\n",
    "import numpy as np\n",
    "from tensorflow.keras.models import Model\n",
    "from tensorflow.keras.utils import to_categorical\n",
    "from tensorflow.keras.applications import VGG16\n",
    "from tensorflow.keras.layers import Flatten, Dense, Dropout\n",
    "from tensorflow.keras.optimizers import Adam\n",
    "import matplotlib.pyplot as plt"
   ]
  },
  {
   "cell_type": "code",
   "execution_count": 2,
   "id": "916b278d-c2fa-4536-b34d-1242fa986955",
   "metadata": {},
   "outputs": [],
   "source": [
    "(x_train, y_train),(x_test, y_test) = tf.keras.datasets.cifar10.load_data()"
   ]
  },
  {
   "cell_type": "code",
   "execution_count": 3,
   "id": "886ceffd-b22e-46d6-801f-190de9dfc583",
   "metadata": {},
   "outputs": [],
   "source": [
    "x_train = x_train.astype('float32') / 255.0\n",
    "x_test = x_test.astype('float32') / 255.0"
   ]
  },
  {
   "cell_type": "code",
   "execution_count": 4,
   "id": "815a9a49-0c0c-4901-a4de-f06f4e941a2f",
   "metadata": {},
   "outputs": [],
   "source": [
    "y_train = to_categorical(y_train, num_classes=10)\n",
    "y_test = to_categorical(y_test, num_classes=10)"
   ]
  },
  {
   "cell_type": "code",
   "execution_count": 5,
   "id": "538942bc-2039-4b7e-bbe4-b9c36bfa5c8b",
   "metadata": {},
   "outputs": [],
   "source": [
    "base_model = VGG16(weights = \"imagenet\", include_top=False, input_shape=(32,32,3))"
   ]
  },
  {
   "cell_type": "code",
   "execution_count": 6,
   "id": "6c446260-5fec-4471-bfa9-3c2720a28493",
   "metadata": {},
   "outputs": [],
   "source": [
    "for layer in base_model.layers:\n",
    "    layer.trainable = False"
   ]
  },
  {
   "cell_type": "code",
   "execution_count": 7,
   "id": "2f76251c-8ba6-4ccc-9313-999078426bda",
   "metadata": {},
   "outputs": [],
   "source": [
    "x = Flatten()(base_model.output)\n",
    "x = Dense(128, activation=\"relu\")(x)\n",
    "x = Dropout(0.5)(x)\n",
    "x = Dense(10, activation=\"softmax\")(x)"
   ]
  },
  {
   "cell_type": "code",
   "execution_count": 8,
   "id": "e8fb62b3-3448-42e4-8d95-5dbee0873ce8",
   "metadata": {},
   "outputs": [],
   "source": [
    "model = Model(inputs=base_model.input, outputs=x)"
   ]
  },
  {
   "cell_type": "code",
   "execution_count": 9,
   "id": "79d29e76-63d9-47d7-9d40-be1196580bad",
   "metadata": {},
   "outputs": [],
   "source": [
    "model.compile(optimizer=Adam(), loss = \"categorical_crossentropy\", metrics=['accuracy'])"
   ]
  },
  {
   "cell_type": "code",
   "execution_count": 10,
   "id": "06e59432-275f-499b-b530-758ff4dd3e40",
   "metadata": {},
   "outputs": [
    {
     "name": "stdout",
     "output_type": "stream",
     "text": [
      "782/782 [==============================] - 234s 299ms/step - loss: 1.5877 - accuracy: 0.4410 - val_loss: 1.3173 - val_accuracy: 0.5389\n"
     ]
    },
    {
     "data": {
      "text/plain": [
       "<keras.src.callbacks.History at 0x23507ea33d0>"
      ]
     },
     "execution_count": 10,
     "metadata": {},
     "output_type": "execute_result"
    }
   ],
   "source": [
    "model.fit(x_train, y_train, epochs = 1, batch_size=64, validation_data=(x_test,y_test))"
   ]
  },
  {
   "cell_type": "code",
   "execution_count": 11,
   "id": "ca358495-21e6-4aa7-b24f-ae9dc98433eb",
   "metadata": {},
   "outputs": [],
   "source": [
    "for layer in base_model.layers:\n",
    "    layer.trainable = True"
   ]
  },
  {
   "cell_type": "code",
   "execution_count": 12,
   "id": "c4c64682-31bf-43c8-b692-a8da4914742a",
   "metadata": {},
   "outputs": [],
   "source": [
    "model.compile(optimizer=Adam(), loss = \"categorical_crossentropy\", metrics=['accuracy'])"
   ]
  },
  {
   "cell_type": "code",
   "execution_count": 14,
   "id": "09161a5c-9f0f-478f-98e6-b6a7f1444b1a",
   "metadata": {},
   "outputs": [
    {
     "name": "stdout",
     "output_type": "stream",
     "text": [
      "782/782 [==============================] - 2167s 3s/step - loss: 1.9625 - accuracy: 0.2113 - val_loss: 1.7214 - val_accuracy: 0.3452\n"
     ]
    },
    {
     "data": {
      "text/plain": [
       "<keras.src.callbacks.History at 0x2350aae2680>"
      ]
     },
     "execution_count": 14,
     "metadata": {},
     "output_type": "execute_result"
    }
   ],
   "source": [
    "model.fit(x_train, y_train, epochs = 1, batch_size=64, validation_data=(x_test,y_test))"
   ]
  },
  {
   "cell_type": "code",
   "execution_count": 15,
   "id": "8552c02c",
   "metadata": {},
   "outputs": [
    {
     "name": "stdout",
     "output_type": "stream",
     "text": [
      "313/313 [==============================] - 37s 117ms/step - loss: 1.7214 - accuracy: 0.3452\n"
     ]
    }
   ],
   "source": [
    "t_loss, t_acc = model.evaluate(x_test, y_test)"
   ]
  },
  {
   "cell_type": "code",
   "execution_count": 16,
   "id": "54356417",
   "metadata": {},
   "outputs": [
    {
     "name": "stdout",
     "output_type": "stream",
     "text": [
      "1.7214187383651733\n",
      "0.3452000021934509\n"
     ]
    }
   ],
   "source": [
    "print(t_loss)\n",
    "print(t_acc)"
   ]
  },
  {
   "cell_type": "code",
   "execution_count": 17,
   "id": "801588ed",
   "metadata": {},
   "outputs": [
    {
     "name": "stdout",
     "output_type": "stream",
     "text": [
      "313/313 [==============================] - 34s 106ms/step\n"
     ]
    }
   ],
   "source": [
    "pred = model.predict(x_test)"
   ]
  },
  {
   "cell_type": "code",
   "execution_count": 25,
   "id": "29840c86",
   "metadata": {},
   "outputs": [
    {
     "name": "stdout",
     "output_type": "stream",
     "text": [
      "1/1 [==============================] - 0s 34ms/step\n"
     ]
    },
    {
     "data": {
      "image/png": "[encoded data removed]",
      "text/plain": [
       "<Figure size 640x480 with 1 Axes>"
      ]
     },
     "metadata": {},
     "output_type": "display_data"
    },
    {
     "data": {
      "image/png": "[encoded data removed]",
      "text/plain": [
       "<Figure size 640x480 with 1 Axes>"
      ]
     },
     "metadata": {},
     "output_type": "display_data"
    }
   ],
   "source": [
    "n = 1\n",
    "random_choices = np.random.choice(x_test.shape[0], n, replace = False)\n",
    "\n",
    "class_names = ['airplane', 'automobile', 'bird', 'cat', 'deer', 'dog', 'frog', 'horse', 'ship', 'truck']\n",
    "\n",
    "for i,idx in enumerate(random_choices):\n",
    "    img = x_test[idx]\n",
    "    label = np.argmax(y_test[idx])\n",
    "\n",
    "    pred = model.predict(np.expand_dims(img, axis=0))\n",
    "    pred_l = np.argmax(pred)\n",
    "\n",
    "    plt.title(f\"Actual label: {class_names[label]}, Predicted Label: {class_names[pred_l]}\")\n",
    "    plt.imshow(img)\n",
    "    plt.show()\n",
    "    plt.axis('off')"
   ]
  },
  {
   "cell_type": "code",
   "execution_count": null,
   "id": "8f5f14ec",
   "metadata": {},
   "outputs": [],
   "source": []
  }
 ],
 "metadata": {
  "kernelspec": {
   "display_name": "Python 3 (ipykernel)",
   "language": "python",
   "name": "python3"
  },
  "language_info": {
   "codemirror_mode": {
    "name": "ipython",
    "version": 3
   },
   "file_extension": ".py",
   "mimetype": "text/x-python",
   "name": "python",
   "nbconvert_exporter": "python",
   "pygments_lexer": "ipython3",
   "version": "3.10.0"
  }
 },
 "nbformat": 4,
 "nbformat_minor": 5
}
