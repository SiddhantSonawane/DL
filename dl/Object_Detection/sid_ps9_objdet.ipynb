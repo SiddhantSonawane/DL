{
 "cells": [
  {
   "cell_type": "code",
   "execution_count": 19,
   "id": "35acc673-38fd-4eb1-942f-1d009eebf3e9",
   "metadata": {},
   "outputs": [],
   "source": [
    "import numpy as np\n",
    "import tensorflow as tf\n",
    "from tensorflow.keras.models import Model, Sequential\n",
    "from tensorflow.keras.layers import Dense, Dropout, Flatten\n",
    "from tensorflow.keras.optimizers import Adam\n",
    "from tensorflow.keras.utils import to_categorical\n",
    "from tensorflow.keras.applications import VGG16"
   ]
  },
  {
   "cell_type": "code",
   "execution_count": 20,
   "id": "f751aee5-4db2-4a31-8f20-ae1940e89c28",
   "metadata": {},
   "outputs": [],
   "source": [
    "(x_train, y_train), (x_test, y_test) = tf.keras.datasets.cifar10.load_data()"
   ]
  },
  {
   "cell_type": "code",
   "execution_count": 21,
   "id": "ea89187e-7fc8-4ebd-a43d-7ff47c19b076",
   "metadata": {},
   "outputs": [],
   "source": [
    "x_train = x_train.astype(\"float32\") / 255.0\n",
    "x_test = x_test.astype(\"float32\") / 255.0"
   ]
  },
  {
   "cell_type": "code",
   "execution_count": 22,
   "id": "e943a343-5608-45d2-934a-8d19f0030029",
   "metadata": {},
   "outputs": [],
   "source": [
    "y_train = to_categorical(y_train, num_classes=10)\n",
    "y_test = to_categorical(y_test, num_classes=10)"
   ]
  },
  {
   "cell_type": "code",
   "execution_count": 23,
   "id": "0b4d9e0f-d69d-470f-b094-ca45552c30a1",
   "metadata": {},
   "outputs": [],
   "source": [
    "base_model = VGG16(weights=\"imagenet\", include_top = False, input_shape=(32,32,3))"
   ]
  },
  {
   "cell_type": "code",
   "execution_count": 24,
   "id": "2f012c9f-bcd0-4847-9dfb-aca261d999d1",
   "metadata": {},
   "outputs": [],
   "source": [
    "for layer in base_model.layers:\n",
    "    layer.trainable = False"
   ]
  },
  {
   "cell_type": "code",
   "execution_count": 25,
   "id": "6bcf581a-968c-4a03-b9c2-77a1cb8f0770",
   "metadata": {},
   "outputs": [],
   "source": [
    "x = Flatten()(base_model.output)\n",
    "x = Dense(128, activation=\"relu\")(x)\n",
    "x = Dropout(0.5)(x)\n",
    "x = Dense(10, activation=\"softmax\")(x)"
   ]
  },
  {
   "cell_type": "code",
   "execution_count": 26,
   "id": "6e76ae44-3a41-4889-b03c-d5c8a4c1b521",
   "metadata": {},
   "outputs": [],
   "source": [
    "model = Model(inputs=base_model.input, outputs=x)"
   ]
  },
  {
   "cell_type": "code",
   "execution_count": 27,
   "id": "a718c590-a5d5-4a7d-a443-252388b2680e",
   "metadata": {},
   "outputs": [],
   "source": [
    "model.compile(optimizer = Adam(), loss = \"categorical_crossentropy\", metrics=['accuracy'])"
   ]
  },
  {
   "cell_type": "code",
   "execution_count": 28,
   "id": "be81655d-6843-49f4-95c0-06e6058c3731",
   "metadata": {},
   "outputs": [
    {
     "name": "stdout",
     "output_type": "stream",
     "text": [
      "391/391 [==============================] - 318s 804ms/step - loss: 1.6582 - accuracy: 0.4178 - val_loss: 1.3662 - val_accuracy: 0.5292\n"
     ]
    },
    {
     "data": {
      "text/plain": [
       "<keras.src.callbacks.History at 0x16d80903460>"
      ]
     },
     "execution_count": 28,
     "metadata": {},
     "output_type": "execute_result"
    }
   ],
   "source": [
    "model.fit(x_train, y_train, epochs = 1, batch_size=128, validation_data=(x_test,y_test))"
   ]
  },
  {
   "cell_type": "code",
   "execution_count": 29,
   "id": "57084b65-07c3-4562-9088-90e1d5bffcba",
   "metadata": {},
   "outputs": [],
   "source": [
    "for layer in base_model.layers:\n",
    "    layer.trainable = True\n",
    "\n",
    "# model.compile(optimizer = Adam(), loss = \"categorical_crossentropy\", metrics=['accuracy'])\n",
    "\n",
    "# model.fit(x_train, y_train, epochs = 1, batch_size=256, validation_data=(x_test,y_test))\n",
    "\n",
    "# t_loss, t_acc = model.evaluate(x_test, y_test)\n",
    "# print(t_loss)\n",
    "# print(t_acc)"
   ]
  },
  {
   "cell_type": "code",
   "execution_count": 30,
   "id": "a066aa0a-9bce-40e6-b189-9d2096c40a51",
   "metadata": {},
   "outputs": [],
   "source": [
    "model.compile(optimizer = Adam(), loss = \"categorical_crossentropy\", metrics=['accuracy'])"
   ]
  },
  {
   "cell_type": "code",
   "execution_count": null,
   "id": "1a1ad949-7355-419a-bcf4-adf39355855e",
   "metadata": {},
   "outputs": [
    {
     "name": "stdout",
     "output_type": "stream",
     "text": [
      "146/196 [=====================>........] - ETA: 7:17 - loss: 2.9738 - accuracy: 0.1042"
     ]
    }
   ],
   "source": [
    "model.fit(x_train, y_train, epochs = 1, batch_size=256, validation_data=(x_test,y_test))"
   ]
  },
  {
   "cell_type": "code",
   "execution_count": null,
   "id": "3389e2f9-a8fb-4b6a-9617-594fe1fe4133",
   "metadata": {},
   "outputs": [],
   "source": []
  }
 ],
 "metadata": {
  "kernelspec": {
   "display_name": "Python 3 (ipykernel)",
   "language": "python",
   "name": "python3"
  },
  "language_info": {
   "codemirror_mode": {
    "name": "ipython",
    "version": 3
   },
   "file_extension": ".py",
   "mimetype": "text/x-python",
   "name": "python",
   "nbconvert_exporter": "python",
   "pygments_lexer": "ipython3",
   "version": "3.10.0"
  }
 },
 "nbformat": 4,
 "nbformat_minor": 5
}
